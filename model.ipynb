{
 "cells": [
  {
   "cell_type": "markdown",
   "metadata": {},
   "source": [
    "# Digital Image Processing - Project - Deep Multi Task Learning for facial landmark recoginition #\n",
    "\n"
   ]
  },
  {
   "cell_type": "markdown",
   "metadata": {},
   "source": [
    "### Authors - Aditya Menon, Arshad G, Ajit Jadhav, Paras Dahiya\n",
    "#####                     Indian Institute of Information Technology, Sri City, AP"
   ]
  },
  {
   "cell_type": "code",
   "execution_count": 1,
   "metadata": {},
   "outputs": [],
   "source": [
    "import numpy as np\n",
    "import cv2 as cv\n",
    "import pandas as pd\n",
    "import matplotlib.pyplot as plt"
   ]
  },
  {
   "cell_type": "code",
   "execution_count": 2,
   "metadata": {},
   "outputs": [
    {
     "data": {
      "text/html": [
       "<div>\n",
       "<style scoped>\n",
       "    .dataframe tbody tr th:only-of-type {\n",
       "        vertical-align: middle;\n",
       "    }\n",
       "\n",
       "    .dataframe tbody tr th {\n",
       "        vertical-align: top;\n",
       "    }\n",
       "\n",
       "    .dataframe thead th {\n",
       "        text-align: right;\n",
       "    }\n",
       "</style>\n",
       "<table border=\"1\" class=\"dataframe\">\n",
       "  <thead>\n",
       "    <tr style=\"text-align: right;\">\n",
       "      <th></th>\n",
       "      <th>image</th>\n",
       "      <th>x1</th>\n",
       "      <th>x2</th>\n",
       "      <th>x3</th>\n",
       "      <th>x4</th>\n",
       "      <th>x5</th>\n",
       "      <th>y1</th>\n",
       "      <th>y2</th>\n",
       "      <th>y3</th>\n",
       "      <th>y4</th>\n",
       "      <th>y5</th>\n",
       "      <th>gender</th>\n",
       "      <th>smile</th>\n",
       "      <th>glass</th>\n",
       "      <th>pose</th>\n",
       "      <th>map_to_img</th>\n",
       "    </tr>\n",
       "  </thead>\n",
       "  <tbody>\n",
       "    <tr>\n",
       "      <th>2733</th>\n",
       "      <td>lfw_5590/Michael_McNeely_0001.jpg</td>\n",
       "      <td>64.3500</td>\n",
       "      <td>88.6500</td>\n",
       "      <td>75.45</td>\n",
       "      <td>67.05</td>\n",
       "      <td>88.3500</td>\n",
       "      <td>67.350000</td>\n",
       "      <td>64.950000</td>\n",
       "      <td>80.850000</td>\n",
       "      <td>93.750000</td>\n",
       "      <td>92.850000</td>\n",
       "      <td>1.0</td>\n",
       "      <td>2.0</td>\n",
       "      <td>2.0</td>\n",
       "      <td>3.0</td>\n",
       "      <td>2733</td>\n",
       "    </tr>\n",
       "    <tr>\n",
       "      <th>9713</th>\n",
       "      <td>net_7876/_-60_9871_0.jpg</td>\n",
       "      <td>62.8125</td>\n",
       "      <td>90.9375</td>\n",
       "      <td>67.50</td>\n",
       "      <td>63.75</td>\n",
       "      <td>83.4375</td>\n",
       "      <td>41.666667</td>\n",
       "      <td>42.361111</td>\n",
       "      <td>54.861111</td>\n",
       "      <td>67.361111</td>\n",
       "      <td>68.055556</td>\n",
       "      <td>1.0</td>\n",
       "      <td>2.0</td>\n",
       "      <td>2.0</td>\n",
       "      <td>3.0</td>\n",
       "      <td>9713</td>\n",
       "    </tr>\n",
       "    <tr>\n",
       "      <th>4737</th>\n",
       "      <td>net_7876/218_1_0.jpg</td>\n",
       "      <td>58.5000</td>\n",
       "      <td>97.1250</td>\n",
       "      <td>72.00</td>\n",
       "      <td>57.75</td>\n",
       "      <td>90.0000</td>\n",
       "      <td>55.875000</td>\n",
       "      <td>57.000000</td>\n",
       "      <td>73.500000</td>\n",
       "      <td>91.500000</td>\n",
       "      <td>93.375000</td>\n",
       "      <td>2.0</td>\n",
       "      <td>1.0</td>\n",
       "      <td>2.0</td>\n",
       "      <td>3.0</td>\n",
       "      <td>4737</td>\n",
       "    </tr>\n",
       "    <tr>\n",
       "      <th>7044</th>\n",
       "      <td>net_7876/8520_0_0.jpg</td>\n",
       "      <td>55.1250</td>\n",
       "      <td>96.0000</td>\n",
       "      <td>79.50</td>\n",
       "      <td>60.00</td>\n",
       "      <td>94.8750</td>\n",
       "      <td>55.875000</td>\n",
       "      <td>54.375000</td>\n",
       "      <td>84.000000</td>\n",
       "      <td>100.125000</td>\n",
       "      <td>97.875000</td>\n",
       "      <td>2.0</td>\n",
       "      <td>2.0</td>\n",
       "      <td>2.0</td>\n",
       "      <td>3.0</td>\n",
       "      <td>7044</td>\n",
       "    </tr>\n",
       "    <tr>\n",
       "      <th>2937</th>\n",
       "      <td>lfw_5590/Niall_Connolly_0001.jpg</td>\n",
       "      <td>64.0500</td>\n",
       "      <td>90.4500</td>\n",
       "      <td>73.05</td>\n",
       "      <td>64.05</td>\n",
       "      <td>83.2500</td>\n",
       "      <td>66.750000</td>\n",
       "      <td>70.950000</td>\n",
       "      <td>84.150000</td>\n",
       "      <td>92.550000</td>\n",
       "      <td>95.850000</td>\n",
       "      <td>1.0</td>\n",
       "      <td>2.0</td>\n",
       "      <td>2.0</td>\n",
       "      <td>3.0</td>\n",
       "      <td>2937</td>\n",
       "    </tr>\n",
       "  </tbody>\n",
       "</table>\n",
       "</div>"
      ],
      "text/plain": [
       "                                  image       x1       x2     x3     x4  \\\n",
       "2733  lfw_5590/Michael_McNeely_0001.jpg  64.3500  88.6500  75.45  67.05   \n",
       "9713           net_7876/_-60_9871_0.jpg  62.8125  90.9375  67.50  63.75   \n",
       "4737               net_7876/218_1_0.jpg  58.5000  97.1250  72.00  57.75   \n",
       "7044              net_7876/8520_0_0.jpg  55.1250  96.0000  79.50  60.00   \n",
       "2937   lfw_5590/Niall_Connolly_0001.jpg  64.0500  90.4500  73.05  64.05   \n",
       "\n",
       "           x5         y1         y2         y3          y4         y5  gender  \\\n",
       "2733  88.3500  67.350000  64.950000  80.850000   93.750000  92.850000     1.0   \n",
       "9713  83.4375  41.666667  42.361111  54.861111   67.361111  68.055556     1.0   \n",
       "4737  90.0000  55.875000  57.000000  73.500000   91.500000  93.375000     2.0   \n",
       "7044  94.8750  55.875000  54.375000  84.000000  100.125000  97.875000     2.0   \n",
       "2937  83.2500  66.750000  70.950000  84.150000   92.550000  95.850000     1.0   \n",
       "\n",
       "      smile  glass  pose  map_to_img  \n",
       "2733    2.0    2.0   3.0        2733  \n",
       "9713    2.0    2.0   3.0        9713  \n",
       "4737    1.0    2.0   3.0        4737  \n",
       "7044    2.0    2.0   3.0        7044  \n",
       "2937    2.0    2.0   3.0        2937  "
      ]
     },
     "execution_count": 2,
     "metadata": {},
     "output_type": "execute_result"
    }
   ],
   "source": [
    "df = pd.read_csv(\"preprocessed.csv\")\n",
    "from sklearn.utils import shuffle\n",
    "df = shuffle(df)\n",
    "df.head()"
   ]
  },
  {
   "cell_type": "code",
   "execution_count": 3,
   "metadata": {
    "scrolled": true
   },
   "outputs": [
    {
     "name": "stderr",
     "output_type": "stream",
     "text": [
      "/anaconda3/lib/python3.6/site-packages/h5py/__init__.py:36: FutureWarning: Conversion of the second argument of issubdtype from `float` to `np.floating` is deprecated. In future, it will be treated as `np.float64 == np.dtype(float).type`.\n",
      "  from ._conv import register_converters as _register_converters\n"
     ]
    }
   ],
   "source": [
    "import tensorflow as tf"
   ]
  },
  {
   "cell_type": "code",
   "execution_count": 4,
   "metadata": {},
   "outputs": [
    {
     "data": {
      "text/plain": [
       "OneHotEncoder(categorical_features='all', dtype=<class 'numpy.float64'>,\n",
       "       handle_unknown='error', n_values='auto', sparse=True)"
      ]
     },
     "execution_count": 4,
     "metadata": {},
     "output_type": "execute_result"
    }
   ],
   "source": [
    "from sklearn.preprocessing import OneHotEncoder\n",
    "enc = OneHotEncoder()\n",
    "enc"
   ]
  },
  {
   "cell_type": "code",
   "execution_count": 5,
   "metadata": {},
   "outputs": [
    {
     "data": {
      "text/plain": [
       "2733"
      ]
     },
     "execution_count": 5,
     "metadata": {},
     "output_type": "execute_result"
    }
   ],
   "source": [
    "outputs = np.array(df)\n",
    "yLandmark=outputs[:,1:11]\n",
    "yGender=outputs[:,[11]]\n",
    "ySmile=outputs[:,[12]]\n",
    "yGlass=outputs[:,[13]]\n",
    "yPose=outputs[:,[14]]\n",
    "map_to_img = outputs[:,[15]].tolist()\n",
    "map_to_img[0][0]\n"
   ]
  },
  {
   "cell_type": "code",
   "execution_count": 6,
   "metadata": {},
   "outputs": [],
   "source": [
    "enc.fit(yGender)\n",
    "yGender=enc.transform(yGender).toarray()\n",
    "\n",
    "enc.fit(ySmile)\n",
    "ySmile=enc.transform(ySmile).toarray()\n",
    "\n",
    "enc.fit(yGlass)\n",
    "yGlass=enc.transform(yGlass).toarray()\n",
    "\n",
    "enc.fit(yPose)\n",
    "yPose=enc.transform(yPose).toarray()\n",
    "\n"
   ]
  },
  {
   "cell_type": "code",
   "execution_count": 7,
   "metadata": {},
   "outputs": [
    {
     "data": {
      "text/plain": [
       "0"
      ]
     },
     "execution_count": 7,
     "metadata": {},
     "output_type": "execute_result"
    }
   ],
   "source": [
    "yPose.tolist().count([0., 0., 0., 0., 0.])"
   ]
  },
  {
   "cell_type": "code",
   "execution_count": 8,
   "metadata": {},
   "outputs": [],
   "source": [
    "def shared_model(X,istraining):\n",
    "    \n",
    "    x = tf.reshape(X,[-1,150,150,1])\n",
    "    \n",
    "    W1 = tf.get_variable(\"W1\",shape=[5,5,1,16],initializer=tf.contrib.layers.xavier_initializer())\n",
    "    B1 = tf.get_variable(\"B1\",[16],initializer=tf.contrib.layers.xavier_initializer())\n",
    "    \n",
    "    L1 = tf.nn.conv2d(x,W1,strides=[1,1,1,1],padding='SAME')\n",
    "    convL1 = tf.nn.elu(L1+B1)\n",
    "    MP1 = tf.nn.max_pool(convL1,ksize=[1,2,2,1],strides=[1,2,2,1],padding='SAME')\n",
    "    \n",
    "    W2 = tf.get_variable(\"W2\",shape=[3,3,16,48],initializer=tf.contrib.layers.xavier_initializer())\n",
    "    B2 = tf.get_variable(\"B2\",[48],initializer=tf.contrib.layers.xavier_initializer())\n",
    "    \n",
    "    L2 = tf.nn.conv2d(MP1,W2,strides=[1,1,1,1],padding='SAME')\n",
    "    convL2 = tf.nn.elu(L2+B2)\n",
    "    \n",
    "    convL2 = tf.contrib.layers.dropout(convL2,keep_prob=0.75,is_training=istraining);\n",
    "    MP2 = tf.nn.max_pool(convL2,ksize=[1,2,2,1],strides=[1,2,2,1],padding='SAME')\n",
    "    \n",
    "    \n",
    "    W3 = tf.get_variable(\"W3\",shape=[3,3,48,64],initializer=tf.contrib.layers.xavier_initializer())\n",
    "    B3 = tf.get_variable(\"B3\",[64],initializer=tf.contrib.layers.xavier_initializer())\n",
    "    \n",
    "    L3 = tf.nn.conv2d(MP2,W3,strides=[1,1,1,1],padding='SAME')\n",
    "    convL3 = tf.nn.elu(L3+B3)\n",
    "    \n",
    "    convL3 = tf.contrib.layers.dropout(convL3,keep_prob=0.5,is_training=istraining)\n",
    "    \n",
    "    MP3 = tf.nn.max_pool(convL3,ksize=[1,2,2,1],strides=[1,2,2,1],padding='SAME')\n",
    "    \n",
    "    W4 = tf.get_variable(\"W4\",shape=[2,2,64,64],initializer=tf.contrib.layers.xavier_initializer())\n",
    "    B4 = tf.get_variable(\"B4\",[64],initializer=tf.contrib.layers.xavier_initializer())\n",
    "    \n",
    "    L4 = tf.nn.conv2d(MP3,W4,strides=[1,1,1,1],padding='SAME')\n",
    "    \n",
    "    \n",
    "    convL4 = tf.nn.elu(L4+B4)\n",
    "    \n",
    "    convL4 = tf.contrib.layers.dropout(convL4,keep_prob=0.75,is_training=istraining)\n",
    "    \n",
    "    flat = tf.contrib.layers.flatten(convL4)\n",
    "    sharedLayer = tf.contrib.layers.fully_connected(flat,100,activation_fn=None)\n",
    "    \n",
    "    #sharedLayer1 = tf.contrib.layers.batch_norm(sharedLayer)\n",
    "    sharedLayer2 = tf.nn.elu(sharedLayer)\n",
    "    \n",
    "    return sharedLayer2\n",
    "    \n",
    "    \n",
    "   "
   ]
  },
  {
   "cell_type": "code",
   "execution_count": 9,
   "metadata": {},
   "outputs": [],
   "source": [
    "def landmark_model(X,istraining):\n",
    "    \n",
    "    W_l1 = tf.get_variable(\"W_l1\",shape=[100,50],initializer=tf.contrib.layers.xavier_initializer())\n",
    "    B_l1 = tf.get_variable(\"B_l1\",shape=[50],initializer=tf.contrib.layers.xavier_initializer())\n",
    "    \n",
    "    lm_l1 = tf.matmul(X,W_l1) + B_l1\n",
    "    \n",
    "    Lm1 = tf.nn.relu(lm_l1)\n",
    "    \n",
    "    W_l2 = tf.get_variable(\"W_l2\",shape=[50,10],initializer=tf.contrib.layers.xavier_initializer())\n",
    "    B_l2 = tf.get_variable(\"B_l2\",shape=[10],initializer=tf.contrib.layers.xavier_initializer())\n",
    "    \n",
    "    lm_l2 = tf.matmul(Lm1,W_l2) + B_l2\n",
    "    \n",
    "    return lm_l2"
   ]
  },
  {
   "cell_type": "code",
   "execution_count": 10,
   "metadata": {},
   "outputs": [],
   "source": [
    "def gender_model(X,istraining):\n",
    "    \n",
    "    W_gender1 = tf.get_variable(\"W_gender1\",shape=[100,50],initializer=tf.contrib.layers.xavier_initializer())\n",
    "    B_gender1 = tf.get_variable(\"B_gender1\",shape=[50],initializer=tf.contrib.layers.xavier_initializer())\n",
    "    \n",
    "    gender_l1 = tf.matmul(X,W_gender1) + B_gender1\n",
    "    \n",
    "    #Gender1_BN = tf.contrib.layers.batch_norm(gender_l1);\n",
    "    \n",
    "    Gender1_dropout = tf.contrib.layers.dropout(gender_l1,is_training=istraining)\n",
    "    \n",
    "    Gender1 = tf.nn.relu(gender_l1)\n",
    "    \n",
    "    \n",
    "    W_gender2 = tf.get_variable(\"W_gender2\",shape=[50,2],initializer=tf.contrib.layers.xavier_initializer())\n",
    "    B_gender2 = tf.get_variable(\"B_gender2\",shape=[2],initializer=tf.contrib.layers.xavier_initializer())\n",
    "    \n",
    "    gender_l2 = tf.matmul(Gender1,W_gender2) + B_gender2\n",
    "    return gender_l2"
   ]
  },
  {
   "cell_type": "code",
   "execution_count": 11,
   "metadata": {},
   "outputs": [],
   "source": [
    "def glass_model(X,istraining):\n",
    "    \n",
    "    W_glass1 = tf.get_variable(\"W_glass1\",shape=[100,50],initializer=tf.contrib.layers.xavier_initializer())\n",
    "    B_glass1 = tf.get_variable(\"B_glass1\",shape=[50],initializer=tf.contrib.layers.xavier_initializer())\n",
    "    \n",
    "    glass_l1 = tf.matmul(X,W_glass1) + B_glass1\n",
    "    \n",
    "    Glass1_BN = tf.contrib.layers.batch_norm(glass_l1);\n",
    "    Glass1 = tf.nn.elu(Glass1_BN)\n",
    "    \n",
    "    \n",
    "    \n",
    "    W_glass2 = tf.get_variable(\"W_glass2\",shape=[50,2],initializer=tf.contrib.layers.xavier_initializer())\n",
    "    B_glass2 = tf.get_variable(\"B_glass2\",shape=[2],initializer=tf.contrib.layers.xavier_initializer())\n",
    "    \n",
    "    glass_l2 = tf.matmul(Glass1_BN,W_glass2) + B_glass2\n",
    "        \n",
    "    return glass_l2"
   ]
  },
  {
   "cell_type": "code",
   "execution_count": 12,
   "metadata": {},
   "outputs": [],
   "source": [
    "def pose_model(X,istraining):\n",
    "    \n",
    "    W_pose1 = tf.get_variable(\"W_pose1\",shape=[100,50],initializer=tf.contrib.layers.xavier_initializer())\n",
    "    B_pose1 = tf.get_variable(\"B_pose1\",shape=[50],initializer=tf.contrib.layers.xavier_initializer())\n",
    "    \n",
    "    pose_l1 = tf.matmul(X,W_pose1) + B_pose1\n",
    "    \n",
    "    Pose1 = tf.nn.relu(pose_l1)\n",
    "    \n",
    "    Pose1_BN = tf.contrib.layers.batch_norm(Pose1);\n",
    "    \n",
    "    W_pose2 = tf.get_variable(\"W_pose2\",shape=[50,5],initializer=tf.contrib.layers.xavier_initializer())\n",
    "    B_pose2 = tf.get_variable(\"B_pose2\",shape=[5],initializer=tf.contrib.layers.xavier_initializer())\n",
    "    \n",
    "    pose_l2 = tf.matmul(Pose1_BN,W_pose2) + B_pose2\n",
    "    \n",
    "    return pose_l2"
   ]
  },
  {
   "cell_type": "code",
   "execution_count": 13,
   "metadata": {},
   "outputs": [],
   "source": [
    "def smile_model(X,istraining):\n",
    "    \n",
    "    W_smile1 = tf.get_variable(\"W_smile1\",shape=[100,50],initializer=tf.contrib.layers.xavier_initializer())\n",
    "    B_smile1 = tf.get_variable(\"B_smile1\",shape=[50],initializer=tf.contrib.layers.xavier_initializer())\n",
    "    \n",
    "    smile_l1 = tf.matmul(X,W_smile1) + B_smile1\n",
    "    \n",
    "    Smile1 = tf.nn.relu(smile_l1)\n",
    "    \n",
    "    Smile1_BN = tf.contrib.layers.batch_norm(Smile1);\n",
    "    Smile1_dropout = tf.contrib.layers.batch_norm(Smile1_BN);\n",
    "    \n",
    "    \n",
    "    W_smile2 = tf.get_variable(\"W_smile2\",shape=[50,2],initializer=tf.contrib.layers.xavier_initializer())\n",
    "    B_smile2 = tf.get_variable(\"B_smile2\",shape=[2],initializer=tf.contrib.layers.xavier_initializer())\n",
    "    \n",
    "    smile_l2 = tf.matmul(Smile1_dropout,W_smile2) + B_smile2\n",
    "    \n",
    "    \n",
    "    return smile_l2"
   ]
  },
  {
   "cell_type": "code",
   "execution_count": 14,
   "metadata": {},
   "outputs": [],
   "source": [
    "def landmarkLoss(ypred,y):\n",
    "    return tf.reduce_mean(tf.square(ypred - y))/2"
   ]
  },
  {
   "cell_type": "code",
   "execution_count": 15,
   "metadata": {},
   "outputs": [],
   "source": [
    "def genderLoss(ypred,y):\n",
    "    return tf.reduce_mean(tf.nn.softmax_cross_entropy_with_logits_v2(logits=ypred,labels=y))"
   ]
  },
  {
   "cell_type": "code",
   "execution_count": 16,
   "metadata": {},
   "outputs": [],
   "source": [
    "def glassLoss(ypred,y):\n",
    "    return tf.reduce_mean(tf.nn.softmax_cross_entropy_with_logits_v2(logits=ypred,labels=y))"
   ]
  },
  {
   "cell_type": "code",
   "execution_count": 17,
   "metadata": {},
   "outputs": [],
   "source": [
    "def poseLoss(ypred,y):\n",
    "    return tf.reduce_mean(tf.nn.softmax_cross_entropy_with_logits_v2(logits=ypred,labels=y))"
   ]
  },
  {
   "cell_type": "code",
   "execution_count": 18,
   "metadata": {},
   "outputs": [],
   "source": [
    "def smileLoss(ypred,y):\n",
    "    return tf.reduce_mean(tf.nn.softmax_cross_entropy_with_logits_v2(logits=ypred,labels=y))"
   ]
  },
  {
   "cell_type": "code",
   "execution_count": 19,
   "metadata": {},
   "outputs": [],
   "source": [
    "tf.reset_default_graph()\n",
    "X = tf.placeholder(\"float\")\n",
    "istraining = tf.placeholder(\"bool\")\n",
    "yLm = tf.placeholder(\"float\")\n",
    "yGd = tf.placeholder(\"float\")\n",
    "yGl = tf.placeholder(\"float\")\n",
    "yP = tf.placeholder(\"float\")\n",
    "ySml = tf.placeholder(\"float\")"
   ]
  },
  {
   "cell_type": "code",
   "execution_count": 20,
   "metadata": {},
   "outputs": [
    {
     "data": {
      "text/plain": [
       "array([[[  0,   0,   0, ...,   0,   0,   0],\n",
       "        [  0,   0,   0, ...,   0,   0,   0],\n",
       "        [  0,   0,   0, ...,   0,   0,   0],\n",
       "        ...,\n",
       "        [203, 205, 210, ...,  61,  61,  64],\n",
       "        [203, 206, 211, ...,  60,  60,  62],\n",
       "        [203, 206, 212, ...,  63,  59,  59]],\n",
       "\n",
       "       [[178, 179, 180, ..., 190, 188, 187],\n",
       "        [179, 181, 182, ..., 189, 189, 189],\n",
       "        [180, 182, 183, ..., 188, 190, 191],\n",
       "        ...,\n",
       "        [157, 160, 163, ..., 121, 118, 128],\n",
       "        [159, 159, 161, ..., 136, 134, 143],\n",
       "        [164, 162, 160, ..., 154, 145, 146]]], dtype=uint8)"
      ]
     },
     "execution_count": 20,
     "metadata": {},
     "output_type": "execute_result"
    }
   ],
   "source": [
    "images = np.load(\"image_details.npy\")\n",
    "images = images[df['map_to_img'].tolist()]\n",
    "images[:2]"
   ]
  },
  {
   "cell_type": "code",
   "execution_count": 21,
   "metadata": {},
   "outputs": [],
   "source": [
    "sharedLayer = shared_model(X,istraining)\n",
    "yLandmarkPred = landmark_model(sharedLayer,istraining)\n",
    "yGenderPred = gender_model(sharedLayer,istraining)\n",
    "ySmilePred = smile_model(sharedLayer,istraining)\n",
    "yGlassPred = glass_model(sharedLayer,istraining)\n",
    "yPosePred = pose_model(sharedLayer,istraining)"
   ]
  },
  {
   "cell_type": "code",
   "execution_count": 22,
   "metadata": {},
   "outputs": [],
   "source": [
    "def train():   \n",
    "    gd_loss = genderLoss(yGenderPred,yGd)\n",
    "    lm_loss = landmarkLoss(yLandmarkPred,yLm)\n",
    "    sml_loss = smileLoss(ySmilePred,ySml)\n",
    "    gl_loss = glassLoss(yGlassPred,yGl)\n",
    "    p_loss=poseLoss(yPosePred,yP)\n",
    "    \n",
    "    \n",
    "    total_loss = ( lm_loss + gd_loss + sml_loss + gl_loss + p_loss )\n",
    "    \n",
    "    total_loss_optimizer = tf.train.AdamOptimizer(learning_rate=0.001).minimize(total_loss)\n",
    "    gd_loss_opt = tf.train.AdamOptimizer(learning_rate=0.001).minimize(gd_loss)\n",
    "    lm_loss_opt = tf.train.AdamOptimizer(learning_rate=0.001).minimize(lm_loss)\n",
    "    gl_loss_opt = tf.train.AdamOptimizer(learning_rate=0.001).minimize(gl_loss)\n",
    "    p_loss_opt = tf.train.AdamOptimizer(learning_rate=0.001).minimize(p_loss)\n",
    "    \n",
    "    epochs = 10\n",
    "    \n",
    "    saver = tf.train.Saver()\n",
    "    \n",
    "    with tf.Session() as sess:\n",
    "        print(\"Started training ....\")\n",
    "        initializer = tf.global_variables_initializer()\n",
    "        sess.run(initializer)\n",
    "       \n",
    "        for epoch in range(epochs):\n",
    "            epoch_loss = 0\n",
    "            \n",
    "            #batch_size=100\n",
    "            \n",
    "            acc = 0\n",
    "            i = 0\n",
    "            for _ in range(100):\n",
    "                img = images[i:i+80];\n",
    "                img = np.reshape(img,[80,150,150,1])\n",
    "                #fd = {X:img,yLm:yLandmark[i],yGd:yGender[i],ySml:ySmile[i],yGl:yGlass[i],yP:yPose[i]} \n",
    "                fd = {X:img,yGd:yGender[i:i+80],yGl:yGlass[i:i+80],ySml:ySmile[i:i+80],yP:yPose[i:i+80],yLm:yLandmark[i:i+80],istraining:True}\n",
    "                 \n",
    "                loss , opt = sess.run([total_loss,total_loss_optimizer],feed_dict=fd)\n",
    "                \n",
    "                epoch_loss += loss\n",
    "                \n",
    "        \n",
    "                #print(tf.cast(yGenderPred,'float').eval({X:np.reshape(images[i],[1,150,150,1]),yGd:yGender[i]}))\n",
    "                i = i+80\n",
    "                \n",
    "            gender_acc = 0\n",
    "            glass_acc = 0\n",
    "            smile_acc = 0\n",
    "            pose_acc = 0\n",
    "            \n",
    "#             for j in range(0,8000,100):\n",
    "#                 landmark_loss = tf.cast(tf.reduce_mean(tf.square(yLandmarkPred-yLm))/2,'float').eval({X:np.reshape(images[j:j+100],[100,150,150,1]),yLm:yLandmark[j:j+100],istraining:False})\n",
    "                \n",
    "#                 gender_correct = tf.equal(tf.argmax(yGenderPred,1),tf.argmax(yGd,1))\n",
    "#                 gender_accuracy = tf.reduce_mean(tf.cast(gender_correct,'float'))\n",
    "#                 gender_acc += gender_accuracy.eval({X:np.reshape(images[j:j+100],[100,150,150,1]),yGd:yGender[j:j+100],istraining:False})\n",
    "                \n",
    "                \n",
    "#                 glass_correct = tf.equal(tf.argmax(yGlassPred,1),tf.argmax(yGl,1))\n",
    "#                 glass_accuracy = tf.reduce_mean(tf.cast(glass_correct,'float'))\n",
    "#                 glass_acc += glass_accuracy.eval({X:np.reshape(images[j:j+100],[100,150,150,1]),yGl:yGlass[j:j+100],istraining:False})\n",
    "                \n",
    "                \n",
    "#                 smile_correct = tf.equal(tf.argmax(ySmilePred,1),tf.argmax(ySml,1))\n",
    "#                 smile_accuracy = tf.reduce_mean(tf.cast(smile_correct,'float'))\n",
    "#                 smile_acc += smile_accuracy.eval({X:np.reshape(images[j:j+100],[100,150,150,1]),ySml:ySmile[j:j+100],istraining:False})\n",
    "                \n",
    "                \n",
    "#                 pose_correct = tf.equal(tf.argmax(yPosePred,1),tf.argmax(yP,1))\n",
    "#                 pose_accuracy = tf.reduce_mean(tf.cast(pose_correct,'float'))\n",
    "#                 pose_acc += pose_accuracy.eval({X:np.reshape(images[j:j+100],[100,150,150,1]),yP:yPose[j:j+100],istraining:False})\n",
    "            \n",
    "            print('epoch',epoch+1,'completed out of',epochs,'loss:',epoch_loss,\"i =\",i)\n",
    "#             print('training set accuracy')\n",
    "#             print('gender acc = ', gender_acc/80)\n",
    "#             print('smile acc = ', smile_acc/80)\n",
    "#             print('pose acc = ', pose_acc/80)\n",
    "#             print('glass acc = ', glass_acc/80)\n",
    "            \n",
    "#             print('Landmark loss',landmark_loss/80)\n",
    "\n",
    "            it = 8000\n",
    "            \n",
    "            gender_acc = 0\n",
    "            glass_acc = 0\n",
    "            smile_acc = 0\n",
    "            pose_acc = 0\n",
    "            landmark_loss = 0\n",
    "            \n",
    "            for e in range(20):\n",
    "                landmark_loss += tf.cast(tf.reduce_mean(tf.square(yLandmarkPred-yLm))/2,'float').eval({X:np.reshape(images[it:it+100],[100,150,150,1]),yLm:yLandmark[it:it+100],istraining:False})\n",
    "                \n",
    "                gender_correct = tf.equal(tf.argmax(yGenderPred,1),tf.argmax(yGd,1))\n",
    "                gender_accuracy = tf.reduce_mean(tf.cast(gender_correct,'float'))\n",
    "                gender_acc += gender_accuracy.eval({X:np.reshape(images[it:it+100],[100,150,150,1]),yGd:yGender[it:it+100],istraining:False})\n",
    "                \n",
    "                \n",
    "                glass_correct = tf.equal(tf.argmax(yGlassPred,1),tf.argmax(yGl,1))\n",
    "                glass_accuracy = tf.reduce_mean(tf.cast(glass_correct,'float'))\n",
    "                glass_acc += glass_accuracy.eval({X:np.reshape(images[it:it+100],[100,150,150,1]),yGl:yGlass[it:it+100],istraining:False})\n",
    "                \n",
    "                \n",
    "                smile_correct = tf.equal(tf.argmax(ySmilePred,1),tf.argmax(ySml,1))\n",
    "                smile_accuracy = tf.reduce_mean(tf.cast(smile_correct,'float'))\n",
    "                smile_acc += smile_accuracy.eval({X:np.reshape(images[it:it+100],[100,150,150,1]),ySml:ySmile[it:it+100],istraining:False})\n",
    "                \n",
    "                \n",
    "                pose_correct = tf.equal(tf.argmax(yPosePred,1),tf.argmax(yP,1))\n",
    "                pose_accuracy = tf.reduce_mean(tf.cast(pose_correct,'float'))\n",
    "                pose_acc += pose_accuracy.eval({X:np.reshape(images[it:it+100],[100,150,150,1]),yP:yPose[it:it+100],istraining:False})\n",
    "                it+=100\n",
    "            print('cross validation set accuracy')\n",
    "            print('gender acc = ', gender_acc/20)\n",
    "            print('smile acc = ', smile_acc/20)\n",
    "            print('pose acc = ', pose_acc/20)\n",
    "            print('glass acc = ', glass_acc/20)\n",
    "            \n",
    "            print('Landmark loss',landmark_loss/20)\n",
    "            print('------------------------------------------------------------------------------------------------')\n",
    "#         print(yGenderPred.shape,yGender.shape)\n",
    "#         print(correct.eval({X:np.reshape(images[:100],[100,150,150,1]),yLm:yLandmark[:100],yGd:yGender[:100],ySml:ySmile[:100],yGl:yGlass[:100],yP:yPose[:100]}))\n",
    "#         print(\"test\")\n",
    "\n",
    "        save_path = saver.save(sess,\"./model.ckpt\")\n",
    "    \n",
    "        \n",
    "        \n",
    "    \n",
    "    \n",
    "    "
   ]
  },
  {
   "cell_type": "code",
   "execution_count": 23,
   "metadata": {},
   "outputs": [],
   "source": [
    "def predict(img):\n",
    "    saver = tf.train.Saver()\n",
    "    with tf.Session() as sess:\n",
    "        saver.restore(sess,\"./model.ckpt\")\n",
    "        \n",
    "        fd = {X:np.reshape(img,[1,150,150,1]),istraining:False}\n",
    "        landmark = tf.cast(yLandmarkPred,'float').eval(fd)\n",
    "        gender = tf.cast(tf.argmax(yGenderPred,1),'float').eval(fd)\n",
    "        glass = tf.cast(tf.argmax(yGlassPred,1),'float').eval(fd)\n",
    "        smile = tf.cast(tf.argmax(ySmilePred,1),'float').eval(fd)\n",
    "        pose = tf.cast(tf.argmax(yPosePred,1),'float').eval(fd)\n",
    "        \n",
    "        \n",
    "        if(gender==[0]):\n",
    "            gender = 'Male'\n",
    "        else:\n",
    "            gender = 'Female'\n",
    "            \n",
    "            \n",
    "        if(glass == [0]):\n",
    "            glass = 'True'\n",
    "        else:\n",
    "            glass = 'False'\n",
    "            \n",
    "            \n",
    "        if(smile==[0]):\n",
    "            smile = 'True'\n",
    "        else:\n",
    "            smile = 'False'\n",
    "            \n",
    "            \n",
    "        if(pose == [0]):\n",
    "            pose = 'Left Profile'\n",
    "        elif(pose == [1]):\n",
    "            pose ='Left'\n",
    "        elif(pose == [2]):\n",
    "            pose = 'Frontal'\n",
    "        elif(pose == [3]):\n",
    "            pose ='Right'\n",
    "        else:\n",
    "            pose = 'Right Profile'\n",
    "        \n",
    "        return {'landmark': landmark,\n",
    "                'gender' : gender,\n",
    "                'glass' : glass,\n",
    "                'smile' : smile,\n",
    "                'pose' : pose\n",
    "                }        "
   ]
  },
  {
   "cell_type": "code",
   "execution_count": 24,
   "metadata": {
    "scrolled": false
   },
   "outputs": [
    {
     "name": "stdout",
     "output_type": "stream",
     "text": [
      "Started training ....\n",
      "epoch 1 completed out of 10 loss: 35579.70487976074 i = 8000\n",
      "cross validation set accuracy\n",
      "gender acc =  0.5849999964237214\n",
      "smile acc =  0.5469999969005584\n",
      "pose acc =  0.6044999957084656\n",
      "glass acc =  0.7425000011920929\n",
      "Landmark loss 46.42398548126221\n",
      "------------------------------------------------------------------------------------------------\n",
      "epoch 2 completed out of 10 loss: 2419.403419494629 i = 8000\n",
      "cross validation set accuracy\n",
      "gender acc =  0.5879999965429306\n",
      "smile acc =  0.5599999994039535\n",
      "pose acc =  0.7265000015497207\n",
      "glass acc =  0.8285000026226044\n",
      "Landmark loss 23.07556095123291\n",
      "------------------------------------------------------------------------------------------------\n",
      "epoch 3 completed out of 10 loss: 1614.6409225463867 i = 8000\n",
      "cross validation set accuracy\n",
      "gender acc =  0.6060000032186508\n",
      "smile acc =  0.6375000029802322\n",
      "pose acc =  0.7379999995231629\n",
      "glass acc =  0.8550000011920929\n",
      "Landmark loss 14.341171836853027\n",
      "------------------------------------------------------------------------------------------------\n",
      "epoch 4 completed out of 10 loss: 1321.3700981140137 i = 8000\n",
      "cross validation set accuracy\n",
      "gender acc =  0.6094999998807907\n",
      "smile acc =  0.6455000072717667\n",
      "pose acc =  0.7389999985694885\n",
      "glass acc =  0.8540000021457672\n",
      "Landmark loss 13.140388774871827\n",
      "------------------------------------------------------------------------------------------------\n",
      "epoch 5 completed out of 10 loss: 1140.045392036438 i = 8000\n",
      "cross validation set accuracy\n",
      "gender acc =  0.6425000011920929\n",
      "smile acc =  0.6810000002384186\n",
      "pose acc =  0.7680000007152558\n",
      "glass acc =  0.8620000034570694\n",
      "Landmark loss 10.451683235168456\n",
      "------------------------------------------------------------------------------------------------\n",
      "epoch 6 completed out of 10 loss: 1021.8088397979736 i = 8000\n",
      "cross validation set accuracy\n",
      "gender acc =  0.6115000039339066\n",
      "smile acc =  0.6895000010728836\n",
      "pose acc =  0.7909999996423721\n",
      "glass acc =  0.8625000029802322\n",
      "Landmark loss 9.448456954956054\n",
      "------------------------------------------------------------------------------------------------\n",
      "epoch 7 completed out of 10 loss: 947.500207901001 i = 8000\n",
      "cross validation set accuracy\n",
      "gender acc =  0.6659999996423721\n",
      "smile acc =  0.699499997496605\n",
      "pose acc =  0.7884999990463257\n",
      "glass acc =  0.8625000029802322\n",
      "Landmark loss 8.369939041137695\n",
      "------------------------------------------------------------------------------------------------\n",
      "epoch 8 completed out of 10 loss: 833.329128742218 i = 8000\n",
      "cross validation set accuracy\n",
      "gender acc =  0.6689999997615814\n",
      "smile acc =  0.713999992609024\n",
      "pose acc =  0.7934999972581863\n",
      "glass acc =  0.863500002026558\n",
      "Landmark loss 6.989601397514344\n",
      "------------------------------------------------------------------------------------------------\n",
      "epoch 9 completed out of 10 loss: 767.8563437461853 i = 8000\n",
      "cross validation set accuracy\n",
      "gender acc =  0.7235000014305115\n",
      "smile acc =  0.7195000052452087\n",
      "pose acc =  0.7934999942779541\n",
      "glass acc =  0.8645000010728836\n",
      "Landmark loss 6.186656641960144\n",
      "------------------------------------------------------------------------------------------------\n",
      "epoch 10 completed out of 10 loss: 710.5020179748535 i = 8000\n",
      "cross validation set accuracy\n",
      "gender acc =  0.735000005364418\n",
      "smile acc =  0.723999997973442\n",
      "pose acc =  0.8084999948740006\n",
      "glass acc =  0.8665000021457672\n",
      "Landmark loss 8.660319232940674\n",
      "------------------------------------------------------------------------------------------------\n"
     ]
    }
   ],
   "source": [
    "train()"
   ]
  },
  {
   "cell_type": "code",
   "execution_count": 37,
   "metadata": {},
   "outputs": [],
   "source": [
    "cap = cv.VideoCapture(0)\n",
    "face_cascade = cv.CascadeClassifier('../haarcascades/haarcascade_frontalface_default.xml')\n",
    "# eye_cascade = cv.CascadeClassifier('../haarcascades/haarcascade_eye.xml')"
   ]
  },
  {
   "cell_type": "code",
   "execution_count": 38,
   "metadata": {},
   "outputs": [
    {
     "name": "stdout",
     "output_type": "stream",
     "text": [
      "INFO:tensorflow:Restoring parameters from ./model.ckpt\n",
      "INFO:tensorflow:Restoring parameters from ./model.ckpt\n"
     ]
    },
    {
     "data": {
      "text/plain": [
       "-1"
      ]
     },
     "execution_count": 38,
     "metadata": {},
     "output_type": "execute_result"
    }
   ],
   "source": [
    "while(True):\n",
    "    ret, img = cap.read()\n",
    "    #print(ret,img)\n",
    "    gray = img    \n",
    "    dat=''\n",
    "    data = ''\n",
    "    gray = cv.cvtColor(gray, cv.COLOR_BGR2GRAY);\n",
    "    faces = face_cascade.detectMultiScale(gray, 1.3, 5)\n",
    "#     print()\n",
    "    for (x,y,w,h) in faces:\n",
    "        cv.rectangle(img,(x,y),(x+w,y+h),(255,0,0),2)\n",
    "        roi_gray = gray[y:y+h, x:x+w]\n",
    "        roi_color = img[y:y+h, x:x+w]\n",
    "#         eyes = eye_cascade.detectMultiScale(roi_gray)\n",
    "#         for (ex,ey,ew,eh) in eyes:\n",
    "#             cv.rectangle(roi_color,(ex,ey),(ex+ew,ey+eh),(0,255,0),2)\n",
    "        data = predict(cv.resize(roi_gray,(150,150),interpolation = cv.INTER_AREA))\n",
    "#         if data['gender']==0:\n",
    "#             dat = 'male'\n",
    "#         else:\n",
    "#             dat = 'female'\n",
    "        \n",
    "    cv.putText(img,str(dat)+str(data),(0, 50),cv.FONT_HERSHEY_SIMPLEX, 0.4, (0, 255, 0), 1, cv.LINE_AA)\n",
    "    cv.imshow('frame',img)\n",
    "    if cv.waitKey(1) & 0xFF == ord('q'):\n",
    "        break\n",
    "\n",
    "cap.release()\n",
    "\n",
    "cv.destroyAllWindows()\n",
    "cv.waitKey(1)"
   ]
  },
  {
   "cell_type": "code",
   "execution_count": 36,
   "metadata": {},
   "outputs": [
    {
     "data": {
      "text/plain": [
       "113"
      ]
     },
     "execution_count": 36,
     "metadata": {},
     "output_type": "execute_result"
    }
   ],
   "source": [
    "cap.release()\n",
    "\n",
    "cv.destroyAllWindows()\n",
    "cv.waitKey(1)"
   ]
  },
  {
   "cell_type": "code",
   "execution_count": 50,
   "metadata": {},
   "outputs": [
    {
     "data": {
      "text/plain": [
       "<matplotlib.image.AxesImage at 0x1c3efc2c88>"
      ]
     },
     "execution_count": 50,
     "metadata": {},
     "output_type": "execute_result"
    },
    {
     "data": {
      "image/png": "[encoded data removed]",
      "text/plain": [
       "<matplotlib.figure.Figure at 0x1c3f02f780>"
      ]
     },
     "metadata": {},
     "output_type": "display_data"
    }
   ],
   "source": [
    "plt.imshow(images[8679],cmap='gray')"
   ]
  },
  {
   "cell_type": "code",
   "execution_count": 49,
   "metadata": {},
   "outputs": [
    {
     "data": {
      "text/plain": [
       "image         lfw_5590/Gina_Gershon_0001.jpg\n",
       "x1                                     61.65\n",
       "x2                                     88.05\n",
       "x3                                     76.05\n",
       "x4                                     63.75\n",
       "x5                                     87.75\n",
       "y1                                     64.35\n",
       "y2                                     64.35\n",
       "y3                                     82.05\n",
       "y4                                     93.75\n",
       "y5                                     93.15\n",
       "gender                                     2\n",
       "smile                                      1\n",
       "glass                                      2\n",
       "pose                                       3\n",
       "map_to_img                              1388\n",
       "Name: 1388, dtype: object"
      ]
     },
     "execution_count": 49,
     "metadata": {},
     "output_type": "execute_result"
    }
   ],
   "source": [
    "df.iloc[8679]"
   ]
  },
  {
   "cell_type": "code",
   "execution_count": 51,
   "metadata": {},
   "outputs": [
    {
     "name": "stdout",
     "output_type": "stream",
     "text": [
      "INFO:tensorflow:Restoring parameters from ./model.ckpt\n"
     ]
    },
    {
     "data": {
      "text/plain": [
       "{'gender': 'Female',\n",
       " 'glass': 'False',\n",
       " 'landmark': array([[59.22827 , 87.499794, 75.71449 , 63.230324, 86.92218 , 62.952698,\n",
       "         62.371204, 77.18699 , 90.9555  , 90.212006]], dtype=float32),\n",
       " 'pose': 'Frontal',\n",
       " 'smile': 'True'}"
      ]
     },
     "execution_count": 51,
     "metadata": {},
     "output_type": "execute_result"
    }
   ],
   "source": [
    "predict(images[8679])"
   ]
  },
  {
   "cell_type": "code",
   "execution_count": 52,
   "metadata": {},
   "outputs": [
    {
     "name": "stdout",
     "output_type": "stream",
     "text": [
      "INFO:tensorflow:Restoring parameters from ./model.ckpt\n"
     ]
    }
   ],
   "source": [
    "landmark = predict(images[8679])['landmark'][0].tolist()"
   ]
  },
  {
   "cell_type": "code",
   "execution_count": 53,
   "metadata": {},
   "outputs": [
    {
     "data": {
      "text/plain": [
       "<matplotlib.image.AxesImage at 0x1c3fd6de80>"
      ]
     },
     "execution_count": 53,
     "metadata": {},
     "output_type": "execute_result"
    },
    {
     "data": {
      "image/png": "[encoded data removed]",
      "text/plain": [
       "<matplotlib.figure.Figure at 0x1c3f699668>"
      ]
     },
     "metadata": {},
     "output_type": "display_data"
    }
   ],
   "source": [
    "cv.circle(images[8679],(int(landmark[0]),int(landmark[5])),1,(0,0,255),2)\n",
    "cv.circle(images[8679],(int(landmark[1]),int(landmark[6])),1,(0,0,255),2)\n",
    "cv.circle(images[8679],(int(landmark[2]),int(landmark[7])),1,(0,0,255),2)\n",
    "cv.circle(images[8679],(int(landmark[3]),int(landmark[8])),1,(0,0,255),2)\n",
    "cv.circle(images[8679],(int(landmark[4]),int(landmark[9])),1,(0,0,255),2)\n",
    "plt.imshow(images[8679],cmap='gray')"
   ]
  }
 ],
 "metadata": {
  "kernelspec": {
   "display_name": "Python 3",
   "language": "python",
   "name": "python3"
  },
  "language_info": {
   "codemirror_mode": {
    "name": "ipython",
    "version": 3
   },
   "file_extension": ".py",
   "mimetype": "text/x-python",
   "name": "python",
   "nbconvert_exporter": "python",
   "pygments_lexer": "ipython3",
   "version": "3.6.4"
  }
 },
 "nbformat": 4,
 "nbformat_minor": 2
}
